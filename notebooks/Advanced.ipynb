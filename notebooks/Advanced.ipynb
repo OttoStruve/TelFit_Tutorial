{
 "cells": [
  {
   "cell_type": "markdown",
   "metadata": {},
   "source": [
    "# Advanced Usage\n",
    "\n",
    "This notebook will focus on some of the more complicated ways I have used TelFit in the past. The first thing will be generating a self-consistent fit to a full echelle spectrum. The most accurate way to do that is to simply loop over the orders, letting TelFit find the best parameters each time. However, if you want a self-consistent fit or want to go a bit faster, you can follow this approach:\n",
    "\n",
    "1. Fit the several orders that are dominated by water lines\n",
    "2. Fix the humidity to the average best-fit humidity \n",
    "3. Repeat steps 1-2 for any other molecules present (typically CO, CO2, N2O)\n",
    "4. Generate a model spectrum for each order with the best-fit parameters.\n",
    "\n",
    "I'll go back to the A-star spectrum to demonstrate this case"
   ]
  },
  {
   "cell_type": "code",
   "execution_count": 7,
   "metadata": {
    "collapsed": false
   },
   "outputs": [],
   "source": [
    "# Standard import bloack\n",
    "from astropy.io import fits\n",
    "import telfit\n",
    "import numpy as np\n",
    "import matplotlib.pyplot as plt\n",
    "\n",
    "try:\n",
    "    import seaborn as sns\n",
    "    sns.set_context('notebook', font_scale=1.5)\n",
    "    sns.set_style('whitegrid')\n",
    "except ImportError:\n",
    "    pass\n",
    "\n",
    "%matplotlib inline"
   ]
  },
  {
   "cell_type": "code",
   "execution_count": 5,
   "metadata": {
    "collapsed": false
   },
   "outputs": [],
   "source": [
    "# Read in the data\n",
    "hdulist = fits.open('../data/HIP_105891.fits')\n",
    "orders = []\n",
    "for hdu in hdulist[1:]:\n",
    "    wl = hdu.data['wavelength']\n",
    "    fl = hdu.data['flux']\n",
    "    cont = hdu.data['continuum']\n",
    "    error = hdu.data['error']\n",
    "    data = telfit.DataStructures.xypoint(x=wl, y=fl, cont=cont, err=error)\n",
    "    orders.append(data.copy())\n"
   ]
  },
  {
   "cell_type": "code",
   "execution_count": 37,
   "metadata": {
    "collapsed": false
   },
   "outputs": [],
   "source": [
    "# Initialize the fitter\n",
    "fitter = telfit.TelluricFitter()\n",
    "fitter.SetObservatory('McDonald')\n",
    "\n",
    "# Get relevant info from the fits header. Note that I put these keys there...\n",
    "header = fits.getheader('../data/HIP_105891.fits')\n",
    "RH = header['HUMIDITY']\n",
    "T_fahrenheit = header['AIRTEMP']\n",
    "temperature = (T_fahrenheit - 32.0) * 5.0 / 9.0 + 273.15\n",
    "P = header['BARPRESS'] * 33.77\n",
    "angle = header['ZD']\n",
    "\n",
    "# Tell TelFit about the values\n",
    "fitter.AdjustValue(dict(temperature=temperature, pressure=P, angle=angle, resolution=45000))\n",
    "fitter.FitVariable(dict(h2o=RH))\n",
    "fitter.SetBounds(dict(h2o=(1, 99), co2=(100, 1000), ch4=(0.1, 10), \n",
    "                      n2o=(0.05, 5), co=(0.01, 1.0), resolution=(35000, 55000)))\n"
   ]
  },
  {
   "cell_type": "markdown",
   "metadata": {},
   "source": [
    "For the most part, the setup is identical to the setup for fitting a single echelle order. What we will do next, however, fit each molecule separately for a few orders each. **This will take quite a while to run, so I don't suggest you do this during the tutorial!** \n"
   ]
  },
  {
   "cell_type": "code",
   "execution_count": 38,
   "metadata": {
    "collapsed": false
   },
   "outputs": [],
   "source": [
    "# Define a class that we will use to hold the information for each molecule\n",
    "class Parameter(object):\n",
    "    def __init__(self, parname, order_list, guess):\n",
    "        self.parname = str(parname)\n",
    "        self.order_list = list(order_list)\n",
    "        self.guess = float(guess)\n",
    "        self.fitvals = [] # Will hold the best-fit parameters\n",
    "        \n",
    "    @property\n",
    "    def propdict(self):\n",
    "        return {self.parname: self.guess}\n",
    "        \n",
    "# Make parameters for each molecule\n",
    "h2o = Parameter(parname='h2o', order_list=(2, 3, 33, 34, 35), guess=RH)\n",
    "co2 = Parameter(parname='co2', order_list=(7, 8, 9, 10), guess=368.5)\n",
    "ch4 = Parameter(parname='ch4', order_list=(12, 13, 14, 15), guess=1.8)\n",
    "n2o = Parameter(parname='n2o', order_list=(30,), guess=0.32)\n",
    "co = Parameter(parname='co', order_list=(38, 39, 40), guess=0.14)\n",
    "\n",
    "# Adjust the value for each parameter to its initial guess\n",
    "for par in (h2o, co2, ch4, n2o, co):\n",
    "    fitter.AdjustValue(par.propdict)"
   ]
  },
  {
   "cell_type": "code",
   "execution_count": null,
   "metadata": {
    "collapsed": false
   },
   "outputs": [],
   "source": [
    "# Big, slow loop!\n",
    "for par in (h2o, co2, ch4, co, n2o):\n",
    "    for ordernum in par.order_list:\n",
    "        order = orders[ordernum][100:-100]\n",
    "        fitter.FitVariable(par.propdict)\n",
    "        fitter.AdjustValue(dict(wavestart=order.x[0]-5, waveend=order.x[-1]+5))\n",
    "        \n",
    "        # Perform the fit\n",
    "        source, model = fitter.Fit(data=order,                   # The data to fit\n",
    "                                   resolution_fit_mode='SVD',   # This is best for IGRINS data. The other option is 'gauss'\n",
    "                                   adjust_wave='data',          # Adjust the data wavelengths to match the model, rather than vice versa\n",
    "                                   continuum_fit_order=4,       # Fit the continuum with a 4th-order polynomial\n",
    "                                   wavelength_fit_order=3,      # Add a 3rd-order polynomial to the wavelengths\n",
    "                                   air_wave=True,               # The wavelengths are in air (not vacuum)\n",
    "                                   fit_source=True)             # Fit the source spectrum with a smoothing spline\n",
    "        \n",
    "        # Get the best-fit value\n",
    "        best_fit = fitter.GetValue(par.parname)\n",
    "        par.fitvals.append(best_fit)\n",
    "        \n",
    "    # Now that we have fit every order, fix the value to be the mean\n",
    "    par.guess = np.mean(par.fitvals)\n",
    "    fitter.AdjustValue(par.propdict)\n",
    "    break"
   ]
  },
  {
   "cell_type": "code",
   "execution_count": null,
   "metadata": {
    "collapsed": true
   },
   "outputs": [],
   "source": []
  }
 ],
 "metadata": {
  "kernelspec": {
   "display_name": "Python 2",
   "language": "python",
   "name": "python2"
  },
  "language_info": {
   "codemirror_mode": {
    "name": "ipython",
    "version": 2
   },
   "file_extension": ".py",
   "mimetype": "text/x-python",
   "name": "python",
   "nbconvert_exporter": "python",
   "pygments_lexer": "ipython2",
   "version": "2.7.11"
  }
 },
 "nbformat": 4,
 "nbformat_minor": 0
}
